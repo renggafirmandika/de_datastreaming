{
 "cells": [
  {
   "cell_type": "markdown",
   "metadata": {},
   "source": [
    "# <b> <span style=\"color:white\">Electricity Sector Data Streaming & Analysis</span></b>\n"
   ]
  },
  {
   "cell_type": "markdown",
   "metadata": {},
   "source": [
    "# <b> <span style=\"color:white\">GROUP 04</span></b>\n"
   ]
  },
  {
   "cell_type": "markdown",
   "metadata": {},
   "source": [
    "| Name                   | SID       | Unikey   |\n",
    "| ---------------------- | --------- | -------- |\n",
    "| Putu Eka Udiyani Putri | 550067302 | pput0940 |\n",
    "| Rengga Firmandika      | 550126632 | rfir0117 |\n",
    "| Vincentius Ansel Suppa | 550206406 | vsup0468 |\n"
   ]
  },
  {
   "cell_type": "markdown",
   "metadata": {},
   "source": [
    "## <b> <span style=\"color:orange\">0. Configuration and Import Required Libraries</span></b>\n"
   ]
  },
  {
   "cell_type": "markdown",
   "metadata": {},
   "source": [
    "This notebook acquires, integrates, augments, and stores Australian electricity/emissions datasets:\n",
    "\n",
    "- [NGER](https://data.cer.gov.au/datasets/NGER/ID0243) (emissions & generation, 2014–2024)\n",
    "- [CER](https://cer.gov.au/markets/reports-and-data/large-scale-renewable-energy-data) (approved/committed/probable projects)\n",
    "- [ABS](https://www.abs.gov.au/methodologies/data-region-methodology/2011-24#data-downloads) (population & industry by state)\n",
    "- Geocoding augmentation via OpenStreetMap Nominatim\n",
    "\n",
    "Outputs are loaded into a DuckDB database.\n",
    "\n",
    "**Quick start:**\n",
    "1. Project structure:\n",
    "   \n",
    "   <pre>\n",
    "   Assignment2_Tut07_G04/\n",
    "   ├── Assignment_2.ipynb      # main notebook\n",
    "   ├── requirements.txt        # list of required libraries to run the notebook\n",
    "   └── AUGMENTED/      # geocoded data\n",
    "   </pre>\n",
    "\n",
    "   Ensure your working directory is writable.\n",
    "\n",
    "2. Create venv & install exact dependencies<br/>\n",
    "   `python -m venv .venv`<br/>\n",
    "   Windows: `.\\.venv\\Scripts\\activate` | macOS/Linux: `source .venv/bin/activate`<br/>\n",
    "   `python -m pip install --upgrade pip`<br/>\n",
    "   `pip install -r requirements.txt`\n",
    "\n",
    "3. Replace `your_api_key` with your actual API key. \n",
    "\n",
    "4. Run the full pipeline (extract -> clean -> augment -> transform -> load)<br/>\n",
    "\n",
    "**Notes:**\n",
    "\n",
    "1. Geocoder fallback is flagged in geo_resolution (exact -> approximated by postcode -> approximated by state).\n",
    "2. Augmentation process may take a considerable amount of time. We cached the previous API calls in augmented_dataset.txt so reruns do not to re-hit the API. To redo the geocoding process from the start, please remove the augmented_dataset.txt from the folder."
   ]
  },
  {
   "cell_type": "markdown",
   "metadata": {},
   "source": [
    "Import all the required libraries first.\n"
   ]
  },
  {
   "cell_type": "code",
   "execution_count": null,
   "metadata": {},
   "outputs": [
    {
     "ename": "",
     "evalue": "",
     "output_type": "error",
     "traceback": [
      "\u001b[1;31mRunning cells with 'de_assignment2 (Python 3.12.3)' requires the ipykernel package.\n",
      "\u001b[1;31mInstall 'ipykernel' into the Python environment. \n",
      "\u001b[1;31mCommand: '\"d:/Rengga/USyd/All Materials/Courses Materials/Semester II/1. Data Engineering/Assignment/Assignment 2/Assignment 2_Tut07_G04/de_assignment2/Scripts/python.exe\" -m pip install ipykernel -U --force-reinstall'"
     ]
    }
   ],
   "source": [
    "from dotenv import load_dotenv\n",
    "import os"
   ]
  },
  {
   "cell_type": "markdown",
   "metadata": {},
   "source": [
    "## <b> <span style=\"color:orange\">1. Data Acquisition</span></b>\n"
   ]
  },
  {
   "cell_type": "markdown",
   "metadata": {},
   "source": [
    "### <b> <span style=\"color:pink\">1.1 National Greenhouse and Energy Reporting (NGER)</span></b>\n"
   ]
  },
  {
   "cell_type": "markdown",
   "metadata": {},
   "source": [
    "This dataset consists of 10 annual CSV files released by the Clean Energy Regulator, covering the years 2014 to 2024.  \n",
    "The files contain information on electricity generation and emissions intensity from facilities that are connected to major electricity networks in Australia.\n"
   ]
  }
 ],
 "metadata": {
  "kernelspec": {
   "display_name": "de_assignment2",
   "language": "python",
   "name": "python3"
  },
  "language_info": {
   "codemirror_mode": {
    "name": "ipython",
    "version": 3
   },
   "file_extension": ".py",
   "mimetype": "text/x-python",
   "name": "python",
   "nbconvert_exporter": "python",
   "pygments_lexer": "ipython3",
   "version": "3.12.3"
  }
 },
 "nbformat": 4,
 "nbformat_minor": 4
}
